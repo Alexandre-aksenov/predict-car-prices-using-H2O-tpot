{
 "cells": [
  {
   "cell_type": "markdown",
   "metadata": {},
   "source": [
    "Checking the linear regression on 3 features, which seem most influential taken separately: 'Age', 'HP', 'Weight'. \n",
    "\n",
    "The final performance seems quite modest."
   ]
  },
  {
   "cell_type": "code",
   "execution_count": 1,
   "metadata": {},
   "outputs": [],
   "source": [
    "import pandas as pd\n",
    "from sklearn.linear_model import LinearRegression\n",
    "# model\n",
    "\n",
    "from sklearn.metrics import mean_squared_error\n",
    "# metrics of quality of the fit\n",
    "\n",
    "from sklearn.model_selection import train_test_split\n",
    "from sklearn.preprocessing import KBinsDiscretizer"
   ]
  },
  {
   "cell_type": "code",
   "execution_count": 2,
   "metadata": {},
   "outputs": [
    {
     "name": "stdout",
     "output_type": "stream",
     "text": [
      "(1436, 10)\n",
      "['Price']\n",
      "<class 'pandas.core.frame.DataFrame'>\n",
      "(1436, 3)\n",
      "<class 'pandas.core.frame.DataFrame'>\n",
      "(1436, 1)\n"
     ]
    }
   ],
   "source": [
    "# import the data\n",
    "file_path  = 'ToyotaCorolla.csv'\n",
    "data = pd.read_csv(file_path)\n",
    "print(data.shape)  # (1436, 10)\n",
    "\n",
    "# Select the target\n",
    "target = [data.columns[0]]\n",
    "print(target)  # ['Price']\n",
    "\n",
    "\n",
    "# Select the features.\n",
    "num_features = ['Age', 'HP', 'Weight']\n",
    "\n",
    "df_X = data[num_features]\n",
    "df_y = data[target]\n",
    "\n",
    "print(type(df_X))  # 'pandas.core.frame.DataFrame'\n",
    "print(df_X.shape)  # (1436,3)\n",
    "print(type(df_y))  # 'pandas.core.series.Series'\n",
    "print(df_y.shape)  # (1436,)\n",
    "\n",
    "del file_path"
   ]
  },
  {
   "cell_type": "markdown",
   "metadata": {},
   "source": [
    "Naive attempt of Train-test split fails because of continuous data.\n",
    "The prices should be subdivided into bins!\n",
    "\n",
    "See: https://stackoverflow.com/a/70210854/3503724 ,\n",
    " https://scikit-learn.org/stable/modules/generated/sklearn.preprocessing.KBinsDiscretizer.html\n",
    "\n",
    "for discretization.\n",
    "\n",
    "N.B. Possible improvement.\n",
    "This stratified subdivision in case of continuous variable can be transformed into a function,\n",
    "or it would be event better if this function can be found.\n",
    "\n",
    "Prototype.\n",
    "data, params of KBinsDiscretizer , params of train_test_split\n",
    "-> data_train, data_test"
   ]
  },
  {
   "cell_type": "code",
   "execution_count": 3,
   "metadata": {},
   "outputs": [
    {
     "name": "stdout",
     "output_type": "stream",
     "text": [
      "<class 'sklearn.preprocessing._discretization.KBinsDiscretizer'>\n",
      "[array([ 4350.,  7450.,  7950.,  8750.,  8950.,  9900., 10500., 11250.,\n",
      "        12500., 15950., 32500.])                                       ]\n",
      "<class 'numpy.ndarray'>\n",
      "(1436, 1)\n",
      "<class 'pandas.core.frame.DataFrame'>\n",
      "(1436, 11)\n"
     ]
    },
    {
     "data": {
      "text/html": [
       "<div>\n",
       "<style scoped>\n",
       "    .dataframe tbody tr th:only-of-type {\n",
       "        vertical-align: middle;\n",
       "    }\n",
       "\n",
       "    .dataframe tbody tr th {\n",
       "        vertical-align: top;\n",
       "    }\n",
       "\n",
       "    .dataframe thead th {\n",
       "        text-align: right;\n",
       "    }\n",
       "</style>\n",
       "<table border=\"1\" class=\"dataframe\">\n",
       "  <thead>\n",
       "    <tr style=\"text-align: right;\">\n",
       "      <th></th>\n",
       "      <th>Price</th>\n",
       "      <th>Age</th>\n",
       "      <th>KM</th>\n",
       "      <th>FuelType</th>\n",
       "      <th>HP</th>\n",
       "      <th>MetColor</th>\n",
       "      <th>Automatic</th>\n",
       "      <th>CC</th>\n",
       "      <th>Doors</th>\n",
       "      <th>Weight</th>\n",
       "      <th>discr_price</th>\n",
       "    </tr>\n",
       "  </thead>\n",
       "  <tbody>\n",
       "    <tr>\n",
       "      <th>0</th>\n",
       "      <td>13500</td>\n",
       "      <td>23</td>\n",
       "      <td>46986</td>\n",
       "      <td>Diesel</td>\n",
       "      <td>90</td>\n",
       "      <td>1</td>\n",
       "      <td>0</td>\n",
       "      <td>2000</td>\n",
       "      <td>3</td>\n",
       "      <td>1165</td>\n",
       "      <td>8.0</td>\n",
       "    </tr>\n",
       "    <tr>\n",
       "      <th>1</th>\n",
       "      <td>13750</td>\n",
       "      <td>23</td>\n",
       "      <td>72937</td>\n",
       "      <td>Diesel</td>\n",
       "      <td>90</td>\n",
       "      <td>1</td>\n",
       "      <td>0</td>\n",
       "      <td>2000</td>\n",
       "      <td>3</td>\n",
       "      <td>1165</td>\n",
       "      <td>8.0</td>\n",
       "    </tr>\n",
       "    <tr>\n",
       "      <th>2</th>\n",
       "      <td>13950</td>\n",
       "      <td>24</td>\n",
       "      <td>41711</td>\n",
       "      <td>Diesel</td>\n",
       "      <td>90</td>\n",
       "      <td>1</td>\n",
       "      <td>0</td>\n",
       "      <td>2000</td>\n",
       "      <td>3</td>\n",
       "      <td>1165</td>\n",
       "      <td>8.0</td>\n",
       "    </tr>\n",
       "    <tr>\n",
       "      <th>3</th>\n",
       "      <td>14950</td>\n",
       "      <td>26</td>\n",
       "      <td>48000</td>\n",
       "      <td>Diesel</td>\n",
       "      <td>90</td>\n",
       "      <td>0</td>\n",
       "      <td>0</td>\n",
       "      <td>2000</td>\n",
       "      <td>3</td>\n",
       "      <td>1165</td>\n",
       "      <td>8.0</td>\n",
       "    </tr>\n",
       "    <tr>\n",
       "      <th>4</th>\n",
       "      <td>13750</td>\n",
       "      <td>30</td>\n",
       "      <td>38500</td>\n",
       "      <td>Diesel</td>\n",
       "      <td>90</td>\n",
       "      <td>0</td>\n",
       "      <td>0</td>\n",
       "      <td>2000</td>\n",
       "      <td>3</td>\n",
       "      <td>1170</td>\n",
       "      <td>8.0</td>\n",
       "    </tr>\n",
       "  </tbody>\n",
       "</table>\n",
       "</div>"
      ],
      "text/plain": [
       "   Price  Age     KM FuelType  HP  MetColor  Automatic    CC  Doors  Weight  \\\n",
       "0  13500   23  46986   Diesel  90         1          0  2000      3    1165   \n",
       "1  13750   23  72937   Diesel  90         1          0  2000      3    1165   \n",
       "2  13950   24  41711   Diesel  90         1          0  2000      3    1165   \n",
       "3  14950   26  48000   Diesel  90         0          0  2000      3    1165   \n",
       "4  13750   30  38500   Diesel  90         0          0  2000      3    1170   \n",
       "\n",
       "   discr_price  \n",
       "0          8.0  \n",
       "1          8.0  \n",
       "2          8.0  \n",
       "3          8.0  \n",
       "4          8.0  "
      ]
     },
     "execution_count": 3,
     "metadata": {},
     "output_type": "execute_result"
    }
   ],
   "source": [
    "# discretizing the prices.\n",
    "# Adapted from the stackoverflow link above.\n",
    "\n",
    "price_discretizer = KBinsDiscretizer(n_bins=10, encode='ordinal')\n",
    "#  default strategy : 'quantile'\n",
    "\n",
    "y_discretized = price_discretizer.fit_transform(df_y)\n",
    "\n",
    "print(type(price_discretizer))  # 'sklearn.preprocessing._discretization.KBinsDiscretizer'\n",
    "print(price_discretizer.bin_edges_)\n",
    "# array([ 4350.,  7450.,  7950.,  8750.,  8950.,  9900., 10500., 11250.,\n",
    "#        12500., 15950., 32500.])\n",
    "\n",
    "print(type(y_discretized))  # numpy.ndarray\n",
    "print(y_discretized.shape)  # (1436,1) , Ok\n",
    "\n",
    "# append y_discretized to the Dataframe.\n",
    "data['discr_price'] = y_discretized\n",
    "\n",
    "print(type(data))  # pandas.core.frame.DataFrame'\n",
    "print(data.shape)  # \n",
    "data.head()  # (1436, 11)\n",
    "\n"
   ]
  },
  {
   "cell_type": "code",
   "execution_count": 4,
   "metadata": {},
   "outputs": [
    {
     "data": {
      "text/plain": [
       "<Axes: >"
      ]
     },
     "execution_count": 4,
     "metadata": {},
     "output_type": "execute_result"
    },
    {
     "data": {
      "image/png": "[encoded data removed]",
      "text/plain": [
       "<Figure size 640x480 with 1 Axes>"
      ]
     },
     "metadata": {},
     "output_type": "display_data"
    }
   ],
   "source": [
    "data['discr_price'].hist() \n",
    "# Surprizingly (for the quantile strategy), the histogram is not uniform:\n",
    "# The bin with smallest size is 3, and the one with biggest size is 4 !\n",
    "# Good news: each bin contains more than 50 samples."
   ]
  },
  {
   "cell_type": "code",
   "execution_count": 5,
   "metadata": {},
   "outputs": [
    {
     "name": "stdout",
     "output_type": "stream",
     "text": [
      "(1148, 4)\n",
      "(288, 4)\n"
     ]
    },
    {
     "data": {
      "text/html": [
       "<div>\n",
       "<style scoped>\n",
       "    .dataframe tbody tr th:only-of-type {\n",
       "        vertical-align: middle;\n",
       "    }\n",
       "\n",
       "    .dataframe tbody tr th {\n",
       "        vertical-align: top;\n",
       "    }\n",
       "\n",
       "    .dataframe thead th {\n",
       "        text-align: right;\n",
       "    }\n",
       "</style>\n",
       "<table border=\"1\" class=\"dataframe\">\n",
       "  <thead>\n",
       "    <tr style=\"text-align: right;\">\n",
       "      <th></th>\n",
       "      <th>Age</th>\n",
       "      <th>HP</th>\n",
       "      <th>Weight</th>\n",
       "      <th>Price</th>\n",
       "    </tr>\n",
       "  </thead>\n",
       "  <tbody>\n",
       "    <tr>\n",
       "      <th>1070</th>\n",
       "      <td>76</td>\n",
       "      <td>72</td>\n",
       "      <td>1140</td>\n",
       "      <td>7450</td>\n",
       "    </tr>\n",
       "    <tr>\n",
       "      <th>141</th>\n",
       "      <td>19</td>\n",
       "      <td>192</td>\n",
       "      <td>1185</td>\n",
       "      <td>23950</td>\n",
       "    </tr>\n",
       "    <tr>\n",
       "      <th>510</th>\n",
       "      <td>52</td>\n",
       "      <td>97</td>\n",
       "      <td>1060</td>\n",
       "      <td>11700</td>\n",
       "    </tr>\n",
       "    <tr>\n",
       "      <th>1060</th>\n",
       "      <td>71</td>\n",
       "      <td>110</td>\n",
       "      <td>1050</td>\n",
       "      <td>7950</td>\n",
       "    </tr>\n",
       "    <tr>\n",
       "      <th>451</th>\n",
       "      <td>47</td>\n",
       "      <td>110</td>\n",
       "      <td>1075</td>\n",
       "      <td>11750</td>\n",
       "    </tr>\n",
       "  </tbody>\n",
       "</table>\n",
       "</div>"
      ],
      "text/plain": [
       "      Age   HP  Weight  Price\n",
       "1070   76   72    1140   7450\n",
       "141    19  192    1185  23950\n",
       "510    52   97    1060  11700\n",
       "1060   71  110    1050   7950\n",
       "451    47  110    1075  11750"
      ]
     },
     "execution_count": 5,
     "metadata": {},
     "output_type": "execute_result"
    }
   ],
   "source": [
    "# split according to the new column\n",
    "\n",
    "data_train, data_test = train_test_split(data[num_features + target], test_size=0.2, stratify=data['discr_price'], random_state=42)\n",
    "print(data_train.shape)  # (1148,4)\n",
    "print(data_test.shape)   #  (288,4)\n",
    "\n",
    "data_train.head()\n",
    "\n",
    "# end of the function."
   ]
  },
  {
   "cell_type": "markdown",
   "metadata": {},
   "source": [
    "Regression, cross-validation. Adapted from the previous script, to-check, modify output!"
   ]
  },
  {
   "cell_type": "code",
   "execution_count": 6,
   "metadata": {},
   "outputs": [
    {
     "name": "stdout",
     "output_type": "stream",
     "text": [
      "<class 'sklearn.linear_model._base.LinearRegression'>\n",
      "0.8431310149409263\n",
      "[[-147.5585553    41.76373875   14.23517379]]\n",
      "[-500.85583307]\n"
     ]
    }
   ],
   "source": [
    "# Regression on the subset of features\n",
    "\n",
    "# reg = LinearRegression().fit(df_X, df_y)\n",
    "reg = LinearRegression().fit(data_train[num_features], data_train[target])\n",
    "\n",
    "print(type(reg))  # 'sklearn.linear_model._base.LinearRegression'\n",
    "\n",
    "# results of regression on training set\n",
    "print(reg.score(data_train[num_features], data_train[target]))  # 0.843\n",
    "print(reg.coef_)\n",
    "# [[-147.5585553    41.76373875   14.23517379]]\n",
    "print(reg.intercept_)\n",
    "# [-501]"
   ]
  },
  {
   "cell_type": "code",
   "execution_count": 7,
   "metadata": {},
   "outputs": [
    {
     "name": "stdout",
     "output_type": "stream",
     "text": [
      "RMSE of the linear regression: 1592.380775495379\n",
      "Standard deviation of prices: Price    3626.964585\n",
      "dtype: float64\n"
     ]
    }
   ],
   "source": [
    "# testing set\n",
    "\n",
    "price_pred_test = reg.predict(data_test[num_features])\n",
    "# print(type(price_pred_test))  # ndarray\n",
    "# print(price_pred_test.shape)  # (1436,)\n",
    "\n",
    "# root-mean-square error\n",
    "\n",
    "rmse0 = mean_squared_error(data_test[target], price_pred_test, squared= False)\n",
    "print(\"RMSE of the linear regression:\", rmse0)  # 1592 $ \n",
    "# In comparison, the std of prices equals:\n",
    "print(\"Standard deviation of prices:\", data[target].std())  # 3627 ->\n",
    "# Standard deviation of prices: Price    3626.964585\n",
    "# dtype: float64\n",
    "\n",
    "del reg, price_pred_test"
   ]
  },
  {
   "cell_type": "markdown",
   "metadata": {},
   "source": [
    "This rmse of 1600 $ per car should be compared to the result of AutoML (H2O , TPOT)."
   ]
  }
 ],
 "metadata": {
  "kernelspec": {
   "display_name": "ML1_7_pipelines",
   "language": "python",
   "name": "python3"
  },
  "language_info": {
   "codemirror_mode": {
    "name": "ipython",
    "version": 3
   },
   "file_extension": ".py",
   "mimetype": "text/x-python",
   "name": "python",
   "nbconvert_exporter": "python",
   "pygments_lexer": "ipython3",
   "version": "3.11.5"
  }
 },
 "nbformat": 4,
 "nbformat_minor": 2
}
