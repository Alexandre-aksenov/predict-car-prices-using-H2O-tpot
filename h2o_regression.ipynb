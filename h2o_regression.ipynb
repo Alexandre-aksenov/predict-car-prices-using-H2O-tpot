{
  "cells": [
    {
      "cell_type": "markdown",
      "metadata": {},
      "source": [
        "Running an AutoML regression (H2O) on the data of prices of cars. This notebook is intended for running on Google Colab:\n",
        "https://colab.research.google.com/\n",
        "\n",
        "The performance is significantly better, than that of the linear regression. It can be further improved by increasing the time of computation."
      ]
    },
    {
      "cell_type": "code",
      "execution_count": 1,
      "metadata": {
        "colab": {
          "base_uri": "https://localhost:8080/"
        },
        "id": "dR-SshLQVI3X",
        "outputId": "6f55bd03-9d45-4004-bb89-13ee0fba3d6e"
      },
      "outputs": [
        {
          "name": "stdout",
          "output_type": "stream",
          "text": [
            "Requirement already satisfied: h2o in /usr/local/lib/python3.10/dist-packages (3.44.0.2)\n",
            "Requirement already satisfied: requests in /usr/local/lib/python3.10/dist-packages (from h2o) (2.31.0)\n",
            "Requirement already satisfied: tabulate in /usr/local/lib/python3.10/dist-packages (from h2o) (0.9.0)\n",
            "Requirement already satisfied: charset-normalizer<4,>=2 in /usr/local/lib/python3.10/dist-packages (from requests->h2o) (3.3.2)\n",
            "Requirement already satisfied: idna<4,>=2.5 in /usr/local/lib/python3.10/dist-packages (from requests->h2o) (3.4)\n",
            "Requirement already satisfied: urllib3<3,>=1.21.1 in /usr/local/lib/python3.10/dist-packages (from requests->h2o) (2.0.7)\n",
            "Requirement already satisfied: certifi>=2017.4.17 in /usr/local/lib/python3.10/dist-packages (from requests->h2o) (2023.7.22)\n"
          ]
        }
      ],
      "source": [
        "!pip install h2o"
      ]
    },
    {
      "cell_type": "code",
      "execution_count": 2,
      "metadata": {
        "id": "fPXdlcSAUkTI"
      },
      "outputs": [],
      "source": [
        "import pandas as pd\n",
        "from sklearn.model_selection import train_test_split\n",
        "from sklearn.preprocessing import KBinsDiscretizer"
      ]
    },
    {
      "cell_type": "code",
      "execution_count": 3,
      "metadata": {
        "colab": {
          "base_uri": "https://localhost:8080/",
          "height": 546
        },
        "id": "Kgcp8iUBXJ5X",
        "outputId": "c78ad088-c439-4349-c572-82d248fee3af"
      },
      "outputs": [
        {
          "name": "stdout",
          "output_type": "stream",
          "text": [
            "Checking whether there is an H2O instance running at http://localhost:54321..... not found.\n",
            "Attempting to start a local H2O server...\n",
            "  Java Version: openjdk version \"11.0.20.1\" 2023-08-24; OpenJDK Runtime Environment (build 11.0.20.1+1-post-Ubuntu-0ubuntu122.04); OpenJDK 64-Bit Server VM (build 11.0.20.1+1-post-Ubuntu-0ubuntu122.04, mixed mode, sharing)\n",
            "  Starting server from /usr/local/lib/python3.10/dist-packages/h2o/backend/bin/h2o.jar\n",
            "  Ice root: /tmp/tmp3sci4zk_\n",
            "  JVM stdout: /tmp/tmp3sci4zk_/h2o_unknownUser_started_from_python.out\n",
            "  JVM stderr: /tmp/tmp3sci4zk_/h2o_unknownUser_started_from_python.err\n",
            "  Server is running at http://127.0.0.1:54321\n",
            "Connecting to H2O server at http://127.0.0.1:54321 ... successful.\n"
          ]
        },
        {
          "data": {
            "text/html": [
              "\n",
              "<style>\n",
              "\n",
              "#h2o-table-1.h2o-container {\n",
              "  overflow-x: auto;\n",
              "}\n",
              "#h2o-table-1 .h2o-table {\n",
              "  /* width: 100%; */\n",
              "  margin-top: 1em;\n",
              "  margin-bottom: 1em;\n",
              "}\n",
              "#h2o-table-1 .h2o-table caption {\n",
              "  white-space: nowrap;\n",
              "  caption-side: top;\n",
              "  text-align: left;\n",
              "  /* margin-left: 1em; */\n",
              "  margin: 0;\n",
              "  font-size: larger;\n",
              "}\n",
              "#h2o-table-1 .h2o-table thead {\n",
              "  white-space: nowrap; \n",
              "  position: sticky;\n",
              "  top: 0;\n",
              "  box-shadow: 0 -1px inset;\n",
              "}\n",
              "#h2o-table-1 .h2o-table tbody {\n",
              "  overflow: auto;\n",
              "}\n",
              "#h2o-table-1 .h2o-table th,\n",
              "#h2o-table-1 .h2o-table td {\n",
              "  text-align: right;\n",
              "  /* border: 1px solid; */\n",
              "}\n",
              "#h2o-table-1 .h2o-table tr:nth-child(even) {\n",
              "  /* background: #F5F5F5 */\n",
              "}\n",
              "\n",
              "</style>      \n",
              "<div id=\"h2o-table-1\" class=\"h2o-container\">\n",
              "  <table class=\"h2o-table\">\n",
              "    <caption></caption>\n",
              "    <thead></thead>\n",
              "    <tbody><tr><td>H2O_cluster_uptime:</td>\n",
              "<td>03 secs</td></tr>\n",
              "<tr><td>H2O_cluster_timezone:</td>\n",
              "<td>Etc/UTC</td></tr>\n",
              "<tr><td>H2O_data_parsing_timezone:</td>\n",
              "<td>UTC</td></tr>\n",
              "<tr><td>H2O_cluster_version:</td>\n",
              "<td>3.44.0.2</td></tr>\n",
              "<tr><td>H2O_cluster_version_age:</td>\n",
              "<td>18 days</td></tr>\n",
              "<tr><td>H2O_cluster_name:</td>\n",
              "<td>H2O_from_python_unknownUser_pk9aqq</td></tr>\n",
              "<tr><td>H2O_cluster_total_nodes:</td>\n",
              "<td>1</td></tr>\n",
              "<tr><td>H2O_cluster_free_memory:</td>\n",
              "<td>3.170 Gb</td></tr>\n",
              "<tr><td>H2O_cluster_total_cores:</td>\n",
              "<td>2</td></tr>\n",
              "<tr><td>H2O_cluster_allowed_cores:</td>\n",
              "<td>2</td></tr>\n",
              "<tr><td>H2O_cluster_status:</td>\n",
              "<td>locked, healthy</td></tr>\n",
              "<tr><td>H2O_connection_url:</td>\n",
              "<td>http://127.0.0.1:54321</td></tr>\n",
              "<tr><td>H2O_connection_proxy:</td>\n",
              "<td>{\"http\": null, \"https\": null, \"colab_language_server\": \"/usr/colab/bin/language_service\"}</td></tr>\n",
              "<tr><td>H2O_internal_security:</td>\n",
              "<td>False</td></tr>\n",
              "<tr><td>Python_version:</td>\n",
              "<td>3.10.12 final</td></tr></tbody>\n",
              "  </table>\n",
              "</div>\n"
            ],
            "text/plain": [
              "--------------------------  -----------------------------------------------------------------------------------------\n",
              "H2O_cluster_uptime:         03 secs\n",
              "H2O_cluster_timezone:       Etc/UTC\n",
              "H2O_data_parsing_timezone:  UTC\n",
              "H2O_cluster_version:        3.44.0.2\n",
              "H2O_cluster_version_age:    18 days\n",
              "H2O_cluster_name:           H2O_from_python_unknownUser_pk9aqq\n",
              "H2O_cluster_total_nodes:    1\n",
              "H2O_cluster_free_memory:    3.170 Gb\n",
              "H2O_cluster_total_cores:    2\n",
              "H2O_cluster_allowed_cores:  2\n",
              "H2O_cluster_status:         locked, healthy\n",
              "H2O_connection_url:         http://127.0.0.1:54321\n",
              "H2O_connection_proxy:       {\"http\": null, \"https\": null, \"colab_language_server\": \"/usr/colab/bin/language_service\"}\n",
              "H2O_internal_security:      False\n",
              "Python_version:             3.10.12 final\n",
              "--------------------------  -----------------------------------------------------------------------------------------"
            ]
          },
          "metadata": {},
          "output_type": "display_data"
        }
      ],
      "source": [
        "import h2o\n",
        "from h2o.automl import H2OAutoML\n",
        "h2o.init()\n",
        "# deploys h2o on the cluster."
      ]
    },
    {
      "cell_type": "markdown",
      "metadata": {},
      "source": [
        "Reading the data."
      ]
    },
    {
      "cell_type": "code",
      "execution_count": 4,
      "metadata": {
        "colab": {
          "base_uri": "https://localhost:8080/"
        },
        "id": "FeLNnlkpUpFn",
        "outputId": "71ff22c8-d9da-4485-e440-f620e9e60ff0"
      },
      "outputs": [
        {
          "name": "stdout",
          "output_type": "stream",
          "text": [
            "(1436, 10)\n"
          ]
        }
      ],
      "source": [
        "data = pd.read_csv('https://raw.githubusercontent.com/Alexandre-aksenov/predict-car-prices-using-H2O-tpot/main/ToyotaCorolla.csv')\n",
        "\n",
        "print(data.shape)  # (1436, 10)"
      ]
    },
    {
      "cell_type": "code",
      "execution_count": 5,
      "metadata": {
        "colab": {
          "base_uri": "https://localhost:8080/",
          "height": 206
        },
        "id": "m5xthBhYU5Kw",
        "outputId": "f0916001-a47d-461d-9778-331a60fe0053"
      },
      "outputs": [
        {
          "data": {
            "text/html": [
              "\n",
              "  <div id=\"df-7602a8de-779c-4e7b-880b-9d266428b48c\" class=\"colab-df-container\">\n",
              "    <div>\n",
              "<style scoped>\n",
              "    .dataframe tbody tr th:only-of-type {\n",
              "        vertical-align: middle;\n",
              "    }\n",
              "\n",
              "    .dataframe tbody tr th {\n",
              "        vertical-align: top;\n",
              "    }\n",
              "\n",
              "    .dataframe thead th {\n",
              "        text-align: right;\n",
              "    }\n",
              "</style>\n",
              "<table border=\"1\" class=\"dataframe\">\n",
              "  <thead>\n",
              "    <tr style=\"text-align: right;\">\n",
              "      <th></th>\n",
              "      <th>Price</th>\n",
              "      <th>Age</th>\n",
              "      <th>KM</th>\n",
              "      <th>FuelType</th>\n",
              "      <th>HP</th>\n",
              "      <th>MetColor</th>\n",
              "      <th>Automatic</th>\n",
              "      <th>CC</th>\n",
              "      <th>Doors</th>\n",
              "      <th>Weight</th>\n",
              "    </tr>\n",
              "  </thead>\n",
              "  <tbody>\n",
              "    <tr>\n",
              "      <th>0</th>\n",
              "      <td>13500</td>\n",
              "      <td>23</td>\n",
              "      <td>46986</td>\n",
              "      <td>Diesel</td>\n",
              "      <td>90</td>\n",
              "      <td>1</td>\n",
              "      <td>0</td>\n",
              "      <td>2000</td>\n",
              "      <td>3</td>\n",
              "      <td>1165</td>\n",
              "    </tr>\n",
              "    <tr>\n",
              "      <th>1</th>\n",
              "      <td>13750</td>\n",
              "      <td>23</td>\n",
              "      <td>72937</td>\n",
              "      <td>Diesel</td>\n",
              "      <td>90</td>\n",
              "      <td>1</td>\n",
              "      <td>0</td>\n",
              "      <td>2000</td>\n",
              "      <td>3</td>\n",
              "      <td>1165</td>\n",
              "    </tr>\n",
              "    <tr>\n",
              "      <th>2</th>\n",
              "      <td>13950</td>\n",
              "      <td>24</td>\n",
              "      <td>41711</td>\n",
              "      <td>Diesel</td>\n",
              "      <td>90</td>\n",
              "      <td>1</td>\n",
              "      <td>0</td>\n",
              "      <td>2000</td>\n",
              "      <td>3</td>\n",
              "      <td>1165</td>\n",
              "    </tr>\n",
              "    <tr>\n",
              "      <th>3</th>\n",
              "      <td>14950</td>\n",
              "      <td>26</td>\n",
              "      <td>48000</td>\n",
              "      <td>Diesel</td>\n",
              "      <td>90</td>\n",
              "      <td>0</td>\n",
              "      <td>0</td>\n",
              "      <td>2000</td>\n",
              "      <td>3</td>\n",
              "      <td>1165</td>\n",
              "    </tr>\n",
              "    <tr>\n",
              "      <th>4</th>\n",
              "      <td>13750</td>\n",
              "      <td>30</td>\n",
              "      <td>38500</td>\n",
              "      <td>Diesel</td>\n",
              "      <td>90</td>\n",
              "      <td>0</td>\n",
              "      <td>0</td>\n",
              "      <td>2000</td>\n",
              "      <td>3</td>\n",
              "      <td>1170</td>\n",
              "    </tr>\n",
              "  </tbody>\n",
              "</table>\n",
              "</div>\n",
              "    <div class=\"colab-df-buttons\">\n",
              "\n",
              "  <div class=\"colab-df-container\">\n",
              "    <button class=\"colab-df-convert\" onclick=\"convertToInteractive('df-7602a8de-779c-4e7b-880b-9d266428b48c')\"\n",
              "            title=\"Convert this dataframe to an interactive table.\"\n",
              "            style=\"display:none;\">\n",
              "\n",
              "  <svg xmlns=\"http://www.w3.org/2000/svg\" height=\"24px\" viewBox=\"0 -960 960 960\">\n",
              "    <path d=\"M120-120v-720h720v720H120Zm60-500h600v-160H180v160Zm220 220h160v-160H400v160Zm0 220h160v-160H400v160ZM180-400h160v-160H180v160Zm440 0h160v-160H620v160ZM180-180h160v-160H180v160Zm440 0h160v-160H620v160Z\"/>\n",
              "  </svg>\n",
              "    </button>\n",
              "\n",
              "  <style>\n",
              "    .colab-df-container {\n",
              "      display:flex;\n",
              "      gap: 12px;\n",
              "    }\n",
              "\n",
              "    .colab-df-convert {\n",
              "      background-color: #E8F0FE;\n",
              "      border: none;\n",
              "      border-radius: 50%;\n",
              "      cursor: pointer;\n",
              "      display: none;\n",
              "      fill: #1967D2;\n",
              "      height: 32px;\n",
              "      padding: 0 0 0 0;\n",
              "      width: 32px;\n",
              "    }\n",
              "\n",
              "    .colab-df-convert:hover {\n",
              "      background-color: #E2EBFA;\n",
              "      box-shadow: 0px 1px 2px rgba(60, 64, 67, 0.3), 0px 1px 3px 1px rgba(60, 64, 67, 0.15);\n",
              "      fill: #174EA6;\n",
              "    }\n",
              "\n",
              "    .colab-df-buttons div {\n",
              "      margin-bottom: 4px;\n",
              "    }\n",
              "\n",
              "    [theme=dark] .colab-df-convert {\n",
              "      background-color: #3B4455;\n",
              "      fill: #D2E3FC;\n",
              "    }\n",
              "\n",
              "    [theme=dark] .colab-df-convert:hover {\n",
              "      background-color: #434B5C;\n",
              "      box-shadow: 0px 1px 3px 1px rgba(0, 0, 0, 0.15);\n",
              "      filter: drop-shadow(0px 1px 2px rgba(0, 0, 0, 0.3));\n",
              "      fill: #FFFFFF;\n",
              "    }\n",
              "  </style>\n",
              "\n",
              "    <script>\n",
              "      const buttonEl =\n",
              "        document.querySelector('#df-7602a8de-779c-4e7b-880b-9d266428b48c button.colab-df-convert');\n",
              "      buttonEl.style.display =\n",
              "        google.colab.kernel.accessAllowed ? 'block' : 'none';\n",
              "\n",
              "      async function convertToInteractive(key) {\n",
              "        const element = document.querySelector('#df-7602a8de-779c-4e7b-880b-9d266428b48c');\n",
              "        const dataTable =\n",
              "          await google.colab.kernel.invokeFunction('convertToInteractive',\n",
              "                                                    [key], {});\n",
              "        if (!dataTable) return;\n",
              "\n",
              "        const docLinkHtml = 'Like what you see? Visit the ' +\n",
              "          '<a target=\"_blank\" href=https://colab.research.google.com/notebooks/data_table.ipynb>data table notebook</a>'\n",
              "          + ' to learn more about interactive tables.';\n",
              "        element.innerHTML = '';\n",
              "        dataTable['output_type'] = 'display_data';\n",
              "        await google.colab.output.renderOutput(dataTable, element);\n",
              "        const docLink = document.createElement('div');\n",
              "        docLink.innerHTML = docLinkHtml;\n",
              "        element.appendChild(docLink);\n",
              "      }\n",
              "    </script>\n",
              "  </div>\n",
              "\n",
              "\n",
              "<div id=\"df-f44d9ec5-cf16-4037-a5d0-221c69a55409\">\n",
              "  <button class=\"colab-df-quickchart\" onclick=\"quickchart('df-f44d9ec5-cf16-4037-a5d0-221c69a55409')\"\n",
              "            title=\"Suggest charts\"\n",
              "            style=\"display:none;\">\n",
              "\n",
              "<svg xmlns=\"http://www.w3.org/2000/svg\" height=\"24px\"viewBox=\"0 0 24 24\"\n",
              "     width=\"24px\">\n",
              "    <g>\n",
              "        <path d=\"M19 3H5c-1.1 0-2 .9-2 2v14c0 1.1.9 2 2 2h14c1.1 0 2-.9 2-2V5c0-1.1-.9-2-2-2zM9 17H7v-7h2v7zm4 0h-2V7h2v10zm4 0h-2v-4h2v4z\"/>\n",
              "    </g>\n",
              "</svg>\n",
              "  </button>\n",
              "\n",
              "<style>\n",
              "  .colab-df-quickchart {\n",
              "      --bg-color: #E8F0FE;\n",
              "      --fill-color: #1967D2;\n",
              "      --hover-bg-color: #E2EBFA;\n",
              "      --hover-fill-color: #174EA6;\n",
              "      --disabled-fill-color: #AAA;\n",
              "      --disabled-bg-color: #DDD;\n",
              "  }\n",
              "\n",
              "  [theme=dark] .colab-df-quickchart {\n",
              "      --bg-color: #3B4455;\n",
              "      --fill-color: #D2E3FC;\n",
              "      --hover-bg-color: #434B5C;\n",
              "      --hover-fill-color: #FFFFFF;\n",
              "      --disabled-bg-color: #3B4455;\n",
              "      --disabled-fill-color: #666;\n",
              "  }\n",
              "\n",
              "  .colab-df-quickchart {\n",
              "    background-color: var(--bg-color);\n",
              "    border: none;\n",
              "    border-radius: 50%;\n",
              "    cursor: pointer;\n",
              "    display: none;\n",
              "    fill: var(--fill-color);\n",
              "    height: 32px;\n",
              "    padding: 0;\n",
              "    width: 32px;\n",
              "  }\n",
              "\n",
              "  .colab-df-quickchart:hover {\n",
              "    background-color: var(--hover-bg-color);\n",
              "    box-shadow: 0 1px 2px rgba(60, 64, 67, 0.3), 0 1px 3px 1px rgba(60, 64, 67, 0.15);\n",
              "    fill: var(--button-hover-fill-color);\n",
              "  }\n",
              "\n",
              "  .colab-df-quickchart-complete:disabled,\n",
              "  .colab-df-quickchart-complete:disabled:hover {\n",
              "    background-color: var(--disabled-bg-color);\n",
              "    fill: var(--disabled-fill-color);\n",
              "    box-shadow: none;\n",
              "  }\n",
              "\n",
              "  .colab-df-spinner {\n",
              "    border: 2px solid var(--fill-color);\n",
              "    border-color: transparent;\n",
              "    border-bottom-color: var(--fill-color);\n",
              "    animation:\n",
              "      spin 1s steps(1) infinite;\n",
              "  }\n",
              "\n",
              "  @keyframes spin {\n",
              "    0% {\n",
              "      border-color: transparent;\n",
              "      border-bottom-color: var(--fill-color);\n",
              "      border-left-color: var(--fill-color);\n",
              "    }\n",
              "    20% {\n",
              "      border-color: transparent;\n",
              "      border-left-color: var(--fill-color);\n",
              "      border-top-color: var(--fill-color);\n",
              "    }\n",
              "    30% {\n",
              "      border-color: transparent;\n",
              "      border-left-color: var(--fill-color);\n",
              "      border-top-color: var(--fill-color);\n",
              "      border-right-color: var(--fill-color);\n",
              "    }\n",
              "    40% {\n",
              "      border-color: transparent;\n",
              "      border-right-color: var(--fill-color);\n",
              "      border-top-color: var(--fill-color);\n",
              "    }\n",
              "    60% {\n",
              "      border-color: transparent;\n",
              "      border-right-color: var(--fill-color);\n",
              "    }\n",
              "    80% {\n",
              "      border-color: transparent;\n",
              "      border-right-color: var(--fill-color);\n",
              "      border-bottom-color: var(--fill-color);\n",
              "    }\n",
              "    90% {\n",
              "      border-color: transparent;\n",
              "      border-bottom-color: var(--fill-color);\n",
              "    }\n",
              "  }\n",
              "</style>\n",
              "\n",
              "  <script>\n",
              "    async function quickchart(key) {\n",
              "      const quickchartButtonEl =\n",
              "        document.querySelector('#' + key + ' button');\n",
              "      quickchartButtonEl.disabled = true;  // To prevent multiple clicks.\n",
              "      quickchartButtonEl.classList.add('colab-df-spinner');\n",
              "      try {\n",
              "        const charts = await google.colab.kernel.invokeFunction(\n",
              "            'suggestCharts', [key], {});\n",
              "      } catch (error) {\n",
              "        console.error('Error during call to suggestCharts:', error);\n",
              "      }\n",
              "      quickchartButtonEl.classList.remove('colab-df-spinner');\n",
              "      quickchartButtonEl.classList.add('colab-df-quickchart-complete');\n",
              "    }\n",
              "    (() => {\n",
              "      let quickchartButtonEl =\n",
              "        document.querySelector('#df-f44d9ec5-cf16-4037-a5d0-221c69a55409 button');\n",
              "      quickchartButtonEl.style.display =\n",
              "        google.colab.kernel.accessAllowed ? 'block' : 'none';\n",
              "    })();\n",
              "  </script>\n",
              "</div>\n",
              "    </div>\n",
              "  </div>\n"
            ],
            "text/plain": [
              "   Price  Age     KM FuelType  HP  MetColor  Automatic    CC  Doors  Weight\n",
              "0  13500   23  46986   Diesel  90         1          0  2000      3    1165\n",
              "1  13750   23  72937   Diesel  90         1          0  2000      3    1165\n",
              "2  13950   24  41711   Diesel  90         1          0  2000      3    1165\n",
              "3  14950   26  48000   Diesel  90         0          0  2000      3    1165\n",
              "4  13750   30  38500   Diesel  90         0          0  2000      3    1170"
            ]
          },
          "execution_count": 5,
          "metadata": {},
          "output_type": "execute_result"
        }
      ],
      "source": [
        "data.head()"
      ]
    },
    {
      "cell_type": "markdown",
      "metadata": {
        "id": "Qy483tLdVKEf"
      },
      "source": [
        "The data of prices of Toyota is loaded successfully.\n",
        "\n",
        "Now tackling the regression problem using the package H2O."
      ]
    },
    {
      "cell_type": "code",
      "execution_count": 16,
      "metadata": {
        "colab": {
          "base_uri": "https://localhost:8080/",
          "height": 469
        },
        "id": "gTSAcV8kRAx2",
        "outputId": "c48f5ce0-a8ec-4746-8986-2d9d11c0bdbb"
      },
      "outputs": [
        {
          "data": {
            "text/plain": [
              "array([[<Axes: title={'center': 'discr_price'}>]], dtype=object)"
            ]
          },
          "execution_count": 16,
          "metadata": {},
          "output_type": "execute_result"
        },
        {
          "data": {
            "image/png": "[encoded data removed]",
            "text/plain": [
              "<Figure size 640x480 with 1 Axes>"
            ]
          },
          "metadata": {},
          "output_type": "display_data"
        }
      ],
      "source": [
        "target = [data.columns[0]]\n",
        "\n",
        "# train-test split. \n",
        "# sklearn is used for stratified subdivision, making sure that the subdivision is the same \n",
        "# than for the linear regression.\n",
        "\n",
        "# N.B. Possile improvement.\n",
        "# This stratified subdivision in case of continuous variable can be transformed into a function,\n",
        "# or it would be even better if this function can be found.\n",
        "\n",
        "# Prototype.\n",
        "# data, params of KBinsDiscretizer , params of train_test_split\n",
        "# -> data_train, data_test\n",
        "\n",
        "price_discretizer = KBinsDiscretizer(n_bins=10, encode='ordinal')\n",
        "#  default strategy : 'quantile'\n",
        "\n",
        "y_discretized = price_discretizer.fit_transform(data[target])\n",
        "discrete_target = ['discr_price']\n",
        "\n",
        "data[discrete_target] = y_discretized\n",
        "\n",
        "data[discrete_target].hist()\n",
        "\n",
        "# the extra column 'discr_price' should be removed after train-test split.\n"
      ]
    },
    {
      "cell_type": "code",
      "execution_count": 17,
      "metadata": {
        "colab": {
          "base_uri": "https://localhost:8080/"
        },
        "id": "S-8ZeuFDR7Zz",
        "outputId": "cf56bf46-0300-439d-be81-f87b70abfed7"
      },
      "outputs": [
        {
          "name": "stdout",
          "output_type": "stream",
          "text": [
            "(1148, 11)\n",
            "(288, 11)\n",
            "(1148, 10)\n",
            "(288, 10)\n"
          ]
        }
      ],
      "source": [
        "data_train, data_test = train_test_split(data, test_size=0.2, stratify=data['discr_price'], random_state=42)\n",
        "\n",
        "# removing the extra column 'discr_price'.\n",
        "data_train.drop(columns=discrete_target, inplace=True)\n",
        "data_test.drop(columns=discrete_target, inplace=True)\n",
        "\n",
        "# end of the function\n",
        "\n",
        "print(data_train.shape)  # (1148, 10)\n",
        "print(data_test.shape)   #  (288, 10)"
      ]
    },
    {
      "cell_type": "code",
      "execution_count": 19,
      "metadata": {
        "id": "eJTepT01dzYB"
      },
      "outputs": [],
      "source": [
        "# indicate features, TO-FIND a way to remove a col in 'pandas'\n",
        "# x = data.columns\n",
        "# print(type(x))  # pandas.core.indexes.base.Index'\n",
        "# x.remove(target)  # error"
      ]
    },
    {
      "cell_type": "markdown",
      "metadata": {
        "id": "kMtnbjMPhynq"
      },
      "source": [
        "H2O is used from here for regression."
      ]
    },
    {
      "cell_type": "code",
      "execution_count": 21,
      "metadata": {
        "colab": {
          "base_uri": "https://localhost:8080/"
        },
        "id": "xr3lZYrdOKje",
        "outputId": "73951ea0-02e9-41d0-d771-0b98830c5275"
      },
      "outputs": [
        {
          "name": "stdout",
          "output_type": "stream",
          "text": [
            "Parse progress: |████████████████████████████████████████████████████████████████| (done) 100%\n",
            "Parse progress: |████████████████████████████████████████████████████████████████| (done) 100%\n"
          ]
        }
      ],
      "source": [
        "H2O_train = h2o.H2OFrame(data_train)\n",
        "H2O_test = h2o.H2OFrame(data_test)"
      ]
    },
    {
      "cell_type": "code",
      "execution_count": 22,
      "metadata": {
        "colab": {
          "base_uri": "https://localhost:8080/",
          "height": 389
        },
        "id": "MO_CTAWBOqBU",
        "outputId": "94f6883e-aabb-4e38-e331-0c2a1158bee3"
      },
      "outputs": [
        {
          "data": {
            "text/html": [
              "<table class='dataframe'>\n",
              "<thead>\n",
              "<tr><th style=\"text-align: right;\">  Price</th><th style=\"text-align: right;\">  Age</th><th style=\"text-align: right;\">    KM</th><th>FuelType  </th><th style=\"text-align: right;\">  HP</th><th style=\"text-align: right;\">  MetColor</th><th style=\"text-align: right;\">  Automatic</th><th style=\"text-align: right;\">  CC</th><th style=\"text-align: right;\">  Doors</th><th style=\"text-align: right;\">  Weight</th></tr>\n",
              "</thead>\n",
              "<tbody>\n",
              "<tr><td style=\"text-align: right;\">   7450</td><td style=\"text-align: right;\">   76</td><td style=\"text-align: right;\">154900</td><td>Diesel    </td><td style=\"text-align: right;\">  72</td><td style=\"text-align: right;\">         1</td><td style=\"text-align: right;\">          0</td><td style=\"text-align: right;\">2000</td><td style=\"text-align: right;\">      5</td><td style=\"text-align: right;\">    1140</td></tr>\n",
              "<tr><td style=\"text-align: right;\">  23950</td><td style=\"text-align: right;\">   19</td><td style=\"text-align: right;\"> 21684</td><td>Petrol    </td><td style=\"text-align: right;\"> 192</td><td style=\"text-align: right;\">         1</td><td style=\"text-align: right;\">          0</td><td style=\"text-align: right;\">1800</td><td style=\"text-align: right;\">      5</td><td style=\"text-align: right;\">    1185</td></tr>\n",
              "<tr><td style=\"text-align: right;\">  11700</td><td style=\"text-align: right;\">   52</td><td style=\"text-align: right;\"> 53561</td><td>Petrol    </td><td style=\"text-align: right;\">  97</td><td style=\"text-align: right;\">         1</td><td style=\"text-align: right;\">          0</td><td style=\"text-align: right;\">1400</td><td style=\"text-align: right;\">      5</td><td style=\"text-align: right;\">    1060</td></tr>\n",
              "<tr><td style=\"text-align: right;\">   7950</td><td style=\"text-align: right;\">   71</td><td style=\"text-align: right;\">164000</td><td>Petrol    </td><td style=\"text-align: right;\"> 110</td><td style=\"text-align: right;\">         1</td><td style=\"text-align: right;\">          0</td><td style=\"text-align: right;\">1600</td><td style=\"text-align: right;\">      3</td><td style=\"text-align: right;\">    1050</td></tr>\n",
              "<tr><td style=\"text-align: right;\">  11750</td><td style=\"text-align: right;\">   47</td><td style=\"text-align: right;\"> 73403</td><td>Petrol    </td><td style=\"text-align: right;\"> 110</td><td style=\"text-align: right;\">         1</td><td style=\"text-align: right;\">          0</td><td style=\"text-align: right;\">1600</td><td style=\"text-align: right;\">      5</td><td style=\"text-align: right;\">    1075</td></tr>\n",
              "<tr><td style=\"text-align: right;\">   7350</td><td style=\"text-align: right;\">   72</td><td style=\"text-align: right;\">112000</td><td>Petrol    </td><td style=\"text-align: right;\">  86</td><td style=\"text-align: right;\">         1</td><td style=\"text-align: right;\">          0</td><td style=\"text-align: right;\">1300</td><td style=\"text-align: right;\">      3</td><td style=\"text-align: right;\">    1015</td></tr>\n",
              "<tr><td style=\"text-align: right;\">  10850</td><td style=\"text-align: right;\">   43</td><td style=\"text-align: right;\"> 54600</td><td>Petrol    </td><td style=\"text-align: right;\"> 110</td><td style=\"text-align: right;\">         0</td><td style=\"text-align: right;\">          0</td><td style=\"text-align: right;\">1600</td><td style=\"text-align: right;\">      4</td><td style=\"text-align: right;\">    1030</td></tr>\n",
              "<tr><td style=\"text-align: right;\">  10295</td><td style=\"text-align: right;\">   67</td><td style=\"text-align: right;\"> 62316</td><td>Petrol    </td><td style=\"text-align: right;\"> 110</td><td style=\"text-align: right;\">         1</td><td style=\"text-align: right;\">          0</td><td style=\"text-align: right;\">1600</td><td style=\"text-align: right;\">      3</td><td style=\"text-align: right;\">    1050</td></tr>\n",
              "<tr><td style=\"text-align: right;\">   7950</td><td style=\"text-align: right;\">   78</td><td style=\"text-align: right;\"> 72222</td><td>Petrol    </td><td style=\"text-align: right;\"> 110</td><td style=\"text-align: right;\">         1</td><td style=\"text-align: right;\">          0</td><td style=\"text-align: right;\">1600</td><td style=\"text-align: right;\">      5</td><td style=\"text-align: right;\">    1070</td></tr>\n",
              "<tr><td style=\"text-align: right;\">   7145</td><td style=\"text-align: right;\">   80</td><td style=\"text-align: right;\"> 74785</td><td>Petrol    </td><td style=\"text-align: right;\"> 110</td><td style=\"text-align: right;\">         1</td><td style=\"text-align: right;\">          0</td><td style=\"text-align: right;\">1600</td><td style=\"text-align: right;\">      5</td><td style=\"text-align: right;\">    1070</td></tr>\n",
              "</tbody>\n",
              "</table><pre style='font-size: smaller; margin-bottom: 1em;'>[10 rows x 10 columns]</pre>"
            ],
            "text/plain": [
              "  Price    Age      KM  FuelType      HP    MetColor    Automatic    CC    Doors    Weight\n",
              "-------  -----  ------  ----------  ----  ----------  -----------  ----  -------  --------\n",
              "   7450     76  154900  Diesel        72           1            0  2000        5      1140\n",
              "  23950     19   21684  Petrol       192           1            0  1800        5      1185\n",
              "  11700     52   53561  Petrol        97           1            0  1400        5      1060\n",
              "   7950     71  164000  Petrol       110           1            0  1600        3      1050\n",
              "  11750     47   73403  Petrol       110           1            0  1600        5      1075\n",
              "   7350     72  112000  Petrol        86           1            0  1300        3      1015\n",
              "  10850     43   54600  Petrol       110           0            0  1600        4      1030\n",
              "  10295     67   62316  Petrol       110           1            0  1600        3      1050\n",
              "   7950     78   72222  Petrol       110           1            0  1600        5      1070\n",
              "   7145     80   74785  Petrol       110           1            0  1600        5      1070\n",
              "[10 rows x 10 columns]\n"
            ]
          },
          "execution_count": 22,
          "metadata": {},
          "output_type": "execute_result"
        }
      ],
      "source": [
        "H2O_train.head()"
      ]
    },
    {
      "cell_type": "code",
      "execution_count": 24,
      "metadata": {
        "colab": {
          "base_uri": "https://localhost:8080/"
        },
        "id": "W8qM2eqQOy8T",
        "outputId": "79e43ead-e2ea-4618-9b52-9aafa92312c9"
      },
      "outputs": [
        {
          "name": "stdout",
          "output_type": "stream",
          "text": [
            "<class 'list'>\n"
          ]
        }
      ],
      "source": [
        "# indicate features\n",
        "\n",
        "x = H2O_train.columns  # 'list'\n",
        "x.remove(target[0])  # N.B.: target == ['Price']"
      ]
    },
    {
      "cell_type": "markdown",
      "metadata": {
        "id": "SbDgFGusiGp0"
      },
      "source": [
        "Regression."
      ]
    },
    {
      "cell_type": "code",
      "execution_count": 25,
      "metadata": {
        "colab": {
          "base_uri": "https://localhost:8080/",
          "height": 1000
        },
        "id": "BU_0SBAwhtfq",
        "outputId": "a8f4b60c-1dc8-4dc3-abf8-0a4e9c91c434"
      },
      "outputs": [
        {
          "name": "stdout",
          "output_type": "stream",
          "text": [
            "AutoML progress: |███████████████████████████████████████████████████████████████| (done) 100%\n"
          ]
        },
        {
          "data": {
            "text/html": [
              "<pre style='margin: 1em 0 1em 0;'>Model Details\n",
              "=============\n",
              "H2OStackedEnsembleEstimator : Stacked Ensemble\n",
              "Model Key: StackedEnsemble_AllModels_3_AutoML_1_20231126_165051\n",
              "</pre>\n",
              "<div style='margin: 1em 0 1em 0;'>\n",
              "<style>\n",
              "\n",
              "#h2o-table-2.h2o-container {\n",
              "  overflow-x: auto;\n",
              "}\n",
              "#h2o-table-2 .h2o-table {\n",
              "  /* width: 100%; */\n",
              "  margin-top: 1em;\n",
              "  margin-bottom: 1em;\n",
              "}\n",
              "#h2o-table-2 .h2o-table caption {\n",
              "  white-space: nowrap;\n",
              "  caption-side: top;\n",
              "  text-align: left;\n",
              "  /* margin-left: 1em; */\n",
              "  margin: 0;\n",
              "  font-size: larger;\n",
              "}\n",
              "#h2o-table-2 .h2o-table thead {\n",
              "  white-space: nowrap; \n",
              "  position: sticky;\n",
              "  top: 0;\n",
              "  box-shadow: 0 -1px inset;\n",
              "}\n",
              "#h2o-table-2 .h2o-table tbody {\n",
              "  overflow: auto;\n",
              "}\n",
              "#h2o-table-2 .h2o-table th,\n",
              "#h2o-table-2 .h2o-table td {\n",
              "  text-align: right;\n",
              "  /* border: 1px solid; */\n",
              "}\n",
              "#h2o-table-2 .h2o-table tr:nth-child(even) {\n",
              "  /* background: #F5F5F5 */\n",
              "}\n",
              "\n",
              "</style>      \n",
              "<div id=\"h2o-table-2\" class=\"h2o-container\">\n",
              "  <table class=\"h2o-table\">\n",
              "    <caption>Model Summary for Stacked Ensemble: </caption>\n",
              "    <thead><tr><th>key</th>\n",
              "<th>value</th></tr></thead>\n",
              "    <tbody><tr><td>Stacking strategy</td>\n",
              "<td>cross_validation</td></tr>\n",
              "<tr><td>Number of base models (used / total)</td>\n",
              "<td>7/19</td></tr>\n",
              "<tr><td># GBM base models (used / total)</td>\n",
              "<td>4/9</td></tr>\n",
              "<tr><td># XGBoost base models (used / total)</td>\n",
              "<td>1/5</td></tr>\n",
              "<tr><td># DRF base models (used / total)</td>\n",
              "<td>1/2</td></tr>\n",
              "<tr><td># DeepLearning base models (used / total)</td>\n",
              "<td>1/2</td></tr>\n",
              "<tr><td># GLM base models (used / total)</td>\n",
              "<td>0/1</td></tr>\n",
              "<tr><td>Metalearner algorithm</td>\n",
              "<td>GLM</td></tr>\n",
              "<tr><td>Metalearner fold assignment scheme</td>\n",
              "<td>Random</td></tr>\n",
              "<tr><td>Metalearner nfolds</td>\n",
              "<td>5</td></tr>\n",
              "<tr><td>Metalearner fold_column</td>\n",
              "<td>None</td></tr>\n",
              "<tr><td>Custom metalearner hyperparameters</td>\n",
              "<td>None</td></tr></tbody>\n",
              "  </table>\n",
              "</div>\n",
              "</div>\n",
              "<div style='margin: 1em 0 1em 0;'><pre style='margin: 1em 0 1em 0;'>ModelMetricsRegressionGLM: stackedensemble\n",
              "** Reported on train data. **\n",
              "\n",
              "MSE: 712234.4468585261\n",
              "RMSE: 843.9398360419575\n",
              "MAE: 643.7315059047178\n",
              "RMSLE: 0.08550086363297982\n",
              "Mean Residual Deviance: 712234.4468585261\n",
              "R^2: 0.9457430785968376\n",
              "Null degrees of freedom: 1147\n",
              "Residual degrees of freedom: 1140\n",
              "Null deviance: 15069877240.508732\n",
              "Residual deviance: 817645144.993588\n",
              "AIC: 18746.517325219604</pre></div>\n",
              "<div style='margin: 1em 0 1em 0;'><pre style='margin: 1em 0 1em 0;'>ModelMetricsRegressionGLM: stackedensemble\n",
              "** Reported on cross-validation data. **\n",
              "\n",
              "MSE: 1242438.775353355\n",
              "RMSE: 1114.6473771347398\n",
              "MAE: 812.3963566343187\n",
              "RMSLE: 0.10852663866129204\n",
              "Mean Residual Deviance: 1242438.775353355\n",
              "R^2: 0.9053529307941792\n",
              "Null degrees of freedom: 1147\n",
              "Residual degrees of freedom: 1142\n",
              "Null deviance: 15085542670.930328\n",
              "Residual deviance: 1426319714.1056516\n",
              "AIC: 19381.2924731419</pre></div>\n",
              "<div style='margin: 1em 0 1em 0;'>\n",
              "<style>\n",
              "\n",
              "#h2o-table-3.h2o-container {\n",
              "  overflow-x: auto;\n",
              "}\n",
              "#h2o-table-3 .h2o-table {\n",
              "  /* width: 100%; */\n",
              "  margin-top: 1em;\n",
              "  margin-bottom: 1em;\n",
              "}\n",
              "#h2o-table-3 .h2o-table caption {\n",
              "  white-space: nowrap;\n",
              "  caption-side: top;\n",
              "  text-align: left;\n",
              "  /* margin-left: 1em; */\n",
              "  margin: 0;\n",
              "  font-size: larger;\n",
              "}\n",
              "#h2o-table-3 .h2o-table thead {\n",
              "  white-space: nowrap; \n",
              "  position: sticky;\n",
              "  top: 0;\n",
              "  box-shadow: 0 -1px inset;\n",
              "}\n",
              "#h2o-table-3 .h2o-table tbody {\n",
              "  overflow: auto;\n",
              "}\n",
              "#h2o-table-3 .h2o-table th,\n",
              "#h2o-table-3 .h2o-table td {\n",
              "  text-align: right;\n",
              "  /* border: 1px solid; */\n",
              "}\n",
              "#h2o-table-3 .h2o-table tr:nth-child(even) {\n",
              "  /* background: #F5F5F5 */\n",
              "}\n",
              "\n",
              "</style>      \n",
              "<div id=\"h2o-table-3\" class=\"h2o-container\">\n",
              "  <table class=\"h2o-table\">\n",
              "    <caption>Cross-Validation Metrics Summary: </caption>\n",
              "    <thead><tr><th></th>\n",
              "<th>mean</th>\n",
              "<th>sd</th>\n",
              "<th>cv_1_valid</th>\n",
              "<th>cv_2_valid</th>\n",
              "<th>cv_3_valid</th>\n",
              "<th>cv_4_valid</th>\n",
              "<th>cv_5_valid</th></tr></thead>\n",
              "    <tbody><tr><td>mae</td>\n",
              "<td>812.3533</td>\n",
              "<td>33.731182</td>\n",
              "<td>819.8365</td>\n",
              "<td>848.9917</td>\n",
              "<td>820.0251</td>\n",
              "<td>816.0596</td>\n",
              "<td>756.8537</td></tr>\n",
              "<tr><td>mean_residual_deviance</td>\n",
              "<td>1241097.9</td>\n",
              "<td>185188.16</td>\n",
              "<td>1530633.9</td>\n",
              "<td>1319662.2</td>\n",
              "<td>1149388.1</td>\n",
              "<td>1119763.4</td>\n",
              "<td>1086041.8</td></tr>\n",
              "<tr><td>mse</td>\n",
              "<td>1241097.9</td>\n",
              "<td>185188.16</td>\n",
              "<td>1530633.9</td>\n",
              "<td>1319662.2</td>\n",
              "<td>1149388.1</td>\n",
              "<td>1119763.4</td>\n",
              "<td>1086041.8</td></tr>\n",
              "<tr><td>null_deviance</td>\n",
              "<td>3017108480.0000000</td>\n",
              "<td>407984224.0000000</td>\n",
              "<td>2451924480.0000000</td>\n",
              "<td>3223295740.0000000</td>\n",
              "<td>2844887550.0000000</td>\n",
              "<td>3540692220.0000000</td>\n",
              "<td>3024742660.0000000</td></tr>\n",
              "<tr><td>r2</td>\n",
              "<td>0.9024585</td>\n",
              "<td>0.0288965</td>\n",
              "<td>0.8528507</td>\n",
              "<td>0.9068369</td>\n",
              "<td>0.9077913</td>\n",
              "<td>0.9266276</td>\n",
              "<td>0.9181861</td></tr>\n",
              "<tr><td>residual_deviance</td>\n",
              "<td>285263936.0000000</td>\n",
              "<td>45817088.0000000</td>\n",
              "<td>359698976.0000000</td>\n",
              "<td>298243648.0000000</td>\n",
              "<td>262060496.0000000</td>\n",
              "<td>259785104.0000000</td>\n",
              "<td>246531472.0000000</td></tr>\n",
              "<tr><td>rmse</td>\n",
              "<td>1111.6741</td>\n",
              "<td>81.22898</td>\n",
              "<td>1237.1879</td>\n",
              "<td>1148.7655</td>\n",
              "<td>1072.0952</td>\n",
              "<td>1058.1887</td>\n",
              "<td>1042.1333</td></tr>\n",
              "<tr><td>rmsle</td>\n",
              "<td>0.1082465</td>\n",
              "<td>0.0076107</td>\n",
              "<td>0.1203571</td>\n",
              "<td>0.1046184</td>\n",
              "<td>0.1110427</td>\n",
              "<td>0.1021400</td>\n",
              "<td>0.1030745</td></tr></tbody>\n",
              "  </table>\n",
              "</div>\n",
              "</div><pre style=\"font-size: smaller; margin: 1em 0 0 0;\">\n",
              "\n",
              "[tips]\n",
              "Use `model.explain()` to inspect the model.\n",
              "--\n",
              "Use `h2o.display.toggle_user_tips()` to switch on/off this section.</pre>"
            ],
            "text/plain": [
              "Model Details\n",
              "=============\n",
              "H2OStackedEnsembleEstimator : Stacked Ensemble\n",
              "Model Key: StackedEnsemble_AllModels_3_AutoML_1_20231126_165051\n",
              "\n",
              "\n",
              "Model Summary for Stacked Ensemble: \n",
              "key                                        value\n",
              "-----------------------------------------  ----------------\n",
              "Stacking strategy                          cross_validation\n",
              "Number of base models (used / total)       7/19\n",
              "# GBM base models (used / total)           4/9\n",
              "# XGBoost base models (used / total)       1/5\n",
              "# DRF base models (used / total)           1/2\n",
              "# DeepLearning base models (used / total)  1/2\n",
              "# GLM base models (used / total)           0/1\n",
              "Metalearner algorithm                      GLM\n",
              "Metalearner fold assignment scheme         Random\n",
              "Metalearner nfolds                         5\n",
              "Metalearner fold_column\n",
              "Custom metalearner hyperparameters         None\n",
              "\n",
              "ModelMetricsRegressionGLM: stackedensemble\n",
              "** Reported on train data. **\n",
              "\n",
              "MSE: 712234.4468585261\n",
              "RMSE: 843.9398360419575\n",
              "MAE: 643.7315059047178\n",
              "RMSLE: 0.08550086363297982\n",
              "Mean Residual Deviance: 712234.4468585261\n",
              "R^2: 0.9457430785968376\n",
              "Null degrees of freedom: 1147\n",
              "Residual degrees of freedom: 1140\n",
              "Null deviance: 15069877240.508732\n",
              "Residual deviance: 817645144.993588\n",
              "AIC: 18746.517325219604\n",
              "\n",
              "ModelMetricsRegressionGLM: stackedensemble\n",
              "** Reported on cross-validation data. **\n",
              "\n",
              "MSE: 1242438.775353355\n",
              "RMSE: 1114.6473771347398\n",
              "MAE: 812.3963566343187\n",
              "RMSLE: 0.10852663866129204\n",
              "Mean Residual Deviance: 1242438.775353355\n",
              "R^2: 0.9053529307941792\n",
              "Null degrees of freedom: 1147\n",
              "Residual degrees of freedom: 1142\n",
              "Null deviance: 15085542670.930328\n",
              "Residual deviance: 1426319714.1056516\n",
              "AIC: 19381.2924731419\n",
              "\n",
              "Cross-Validation Metrics Summary: \n",
              "                        mean         sd           cv_1_valid    cv_2_valid    cv_3_valid    cv_4_valid    cv_5_valid\n",
              "----------------------  -----------  -----------  ------------  ------------  ------------  ------------  ------------\n",
              "mae                     812.353      33.7312      819.837       848.992       820.025       816.06        756.854\n",
              "mean_residual_deviance  1.2411e+06   185188       1.53063e+06   1.31966e+06   1.14939e+06   1.11976e+06   1.08604e+06\n",
              "mse                     1.2411e+06   185188       1.53063e+06   1.31966e+06   1.14939e+06   1.11976e+06   1.08604e+06\n",
              "null_deviance           3.01711e+09  4.07984e+08  2.45192e+09   3.2233e+09    2.84489e+09   3.54069e+09   3.02474e+09\n",
              "r2                      0.902459     0.0288965    0.852851      0.906837      0.907791      0.926628      0.918186\n",
              "residual_deviance       2.85264e+08  4.58171e+07  3.59699e+08   2.98244e+08   2.6206e+08    2.59785e+08   2.46531e+08\n",
              "rmse                    1111.67      81.229       1237.19       1148.77       1072.1        1058.19       1042.13\n",
              "rmsle                   0.108247     0.00761066   0.120357      0.104618      0.111043      0.10214       0.103074\n",
              "\n",
              "[tips]\n",
              "Use `model.explain()` to inspect the model.\n",
              "--\n",
              "Use `h2o.display.toggle_user_tips()` to switch on/off this section."
            ]
          },
          "execution_count": 25,
          "metadata": {},
          "output_type": "execute_result"
        }
      ],
      "source": [
        "aml = H2OAutoML(max_runtime_secs=60, seed=1)\n",
        "aml.train(x=x, y=target[0], training_frame=H2O_train)\n",
        "\n",
        "# H2OStackedEnsembleEstimator : Stacked Ensemble\n",
        "# Number of base models (used / total) \t7/19\n",
        "# GBM base models (used / total) \t4/9\n",
        "# XGBoost base models (used / total) \t1/5\n",
        "# DRF base models (used / total) \t1/2\n",
        "# DeepLearning base models (used / total) \t1/2\n",
        "# GLM base models (used / total) \t0/1\n",
        "# Metalearner algorithm \tGLM\n",
        "# Metalearner fold assignment scheme \tRandom\n",
        "# Metalearner nfolds \t5\n",
        "# Metalearner fold_column \tNone\n",
        "# Custom metalearner hyperparameters \tNone\n",
        "\n",
        "# RMSE: 843.94 on train data\n",
        "# RMSE: 1114.65 on cv data"
      ]
    },
    {
      "cell_type": "code",
      "execution_count": 26,
      "metadata": {
        "colab": {
          "base_uri": "https://localhost:8080/",
          "height": 389
        },
        "id": "wkwcYyqIkDLb",
        "outputId": "5913baed-826f-42f7-fbb2-0f645a943c89"
      },
      "outputs": [
        {
          "data": {
            "text/html": [
              "<table class='dataframe'>\n",
              "<thead>\n",
              "<tr><th>model_id                                               </th><th style=\"text-align: right;\">   rmse</th><th style=\"text-align: right;\">        mse</th><th style=\"text-align: right;\">    mae</th><th style=\"text-align: right;\">   rmsle</th><th style=\"text-align: right;\">  mean_residual_deviance</th></tr>\n",
              "</thead>\n",
              "<tbody>\n",
              "<tr><td>StackedEnsemble_AllModels_3_AutoML_1_20231126_165051   </td><td style=\"text-align: right;\">1114.65</td><td style=\"text-align: right;\">1.24244e+06</td><td style=\"text-align: right;\">812.396</td><td style=\"text-align: right;\">0.108527</td><td style=\"text-align: right;\">             1.24244e+06</td></tr>\n",
              "<tr><td>GBM_grid_1_AutoML_1_20231126_165051_model_2            </td><td style=\"text-align: right;\">1116.79</td><td style=\"text-align: right;\">1.24723e+06</td><td style=\"text-align: right;\">817.846</td><td style=\"text-align: right;\">0.108665</td><td style=\"text-align: right;\">             1.24723e+06</td></tr>\n",
              "<tr><td>StackedEnsemble_BestOfFamily_4_AutoML_1_20231126_165051</td><td style=\"text-align: right;\">1123.38</td><td style=\"text-align: right;\">1.26197e+06</td><td style=\"text-align: right;\">816.165</td><td style=\"text-align: right;\">0.109209</td><td style=\"text-align: right;\">             1.26197e+06</td></tr>\n",
              "<tr><td>StackedEnsemble_BestOfFamily_3_AutoML_1_20231126_165051</td><td style=\"text-align: right;\">1124.63</td><td style=\"text-align: right;\">1.26478e+06</td><td style=\"text-align: right;\">814.889</td><td style=\"text-align: right;\">0.109574</td><td style=\"text-align: right;\">             1.26478e+06</td></tr>\n",
              "<tr><td>StackedEnsemble_BestOfFamily_2_AutoML_1_20231126_165051</td><td style=\"text-align: right;\">1127.31</td><td style=\"text-align: right;\">1.27083e+06</td><td style=\"text-align: right;\">820.082</td><td style=\"text-align: right;\">0.109756</td><td style=\"text-align: right;\">             1.27083e+06</td></tr>\n",
              "<tr><td>StackedEnsemble_AllModels_2_AutoML_1_20231126_165051   </td><td style=\"text-align: right;\">1128.49</td><td style=\"text-align: right;\">1.2735e+06 </td><td style=\"text-align: right;\">815.646</td><td style=\"text-align: right;\">0.109574</td><td style=\"text-align: right;\">             1.2735e+06 </td></tr>\n",
              "<tr><td>GBM_2_AutoML_1_20231126_165051                         </td><td style=\"text-align: right;\">1130.84</td><td style=\"text-align: right;\">1.27881e+06</td><td style=\"text-align: right;\">819.379</td><td style=\"text-align: right;\">0.109689</td><td style=\"text-align: right;\">             1.27881e+06</td></tr>\n",
              "<tr><td>StackedEnsemble_AllModels_1_AutoML_1_20231126_165051   </td><td style=\"text-align: right;\">1133.63</td><td style=\"text-align: right;\">1.28512e+06</td><td style=\"text-align: right;\">820.288</td><td style=\"text-align: right;\">0.109838</td><td style=\"text-align: right;\">             1.28512e+06</td></tr>\n",
              "<tr><td>GBM_4_AutoML_1_20231126_165051                         </td><td style=\"text-align: right;\">1136.81</td><td style=\"text-align: right;\">1.29233e+06</td><td style=\"text-align: right;\">821.775</td><td style=\"text-align: right;\">0.110377</td><td style=\"text-align: right;\">             1.29233e+06</td></tr>\n",
              "<tr><td>GBM_5_AutoML_1_20231126_165051                         </td><td style=\"text-align: right;\">1146.27</td><td style=\"text-align: right;\">1.31392e+06</td><td style=\"text-align: right;\">836.918</td><td style=\"text-align: right;\">0.111046</td><td style=\"text-align: right;\">             1.31392e+06</td></tr>\n",
              "</tbody>\n",
              "</table><pre style='font-size: smaller; margin-bottom: 1em;'>[10 rows x 6 columns]</pre>"
            ],
            "text/plain": [
              "model_id                                                    rmse          mse      mae     rmsle    mean_residual_deviance\n",
              "-------------------------------------------------------  -------  -----------  -------  --------  ------------------------\n",
              "StackedEnsemble_AllModels_3_AutoML_1_20231126_165051     1114.65  1.24244e+06  812.396  0.108527               1.24244e+06\n",
              "GBM_grid_1_AutoML_1_20231126_165051_model_2              1116.79  1.24723e+06  817.846  0.108665               1.24723e+06\n",
              "StackedEnsemble_BestOfFamily_4_AutoML_1_20231126_165051  1123.38  1.26197e+06  816.165  0.109209               1.26197e+06\n",
              "StackedEnsemble_BestOfFamily_3_AutoML_1_20231126_165051  1124.63  1.26478e+06  814.889  0.109574               1.26478e+06\n",
              "StackedEnsemble_BestOfFamily_2_AutoML_1_20231126_165051  1127.31  1.27083e+06  820.082  0.109756               1.27083e+06\n",
              "StackedEnsemble_AllModels_2_AutoML_1_20231126_165051     1128.49  1.2735e+06   815.646  0.109574               1.2735e+06\n",
              "GBM_2_AutoML_1_20231126_165051                           1130.84  1.27881e+06  819.379  0.109689               1.27881e+06\n",
              "StackedEnsemble_AllModels_1_AutoML_1_20231126_165051     1133.63  1.28512e+06  820.288  0.109838               1.28512e+06\n",
              "GBM_4_AutoML_1_20231126_165051                           1136.81  1.29233e+06  821.775  0.110377               1.29233e+06\n",
              "GBM_5_AutoML_1_20231126_165051                           1146.27  1.31392e+06  836.918  0.111046               1.31392e+06\n",
              "[10 rows x 6 columns]\n"
            ]
          },
          "execution_count": 26,
          "metadata": {},
          "output_type": "execute_result"
        }
      ],
      "source": [
        "lb = aml.leaderboard\n",
        "lb.head()"
      ]
    },
    {
      "cell_type": "code",
      "execution_count": 29,
      "metadata": {
        "colab": {
          "base_uri": "https://localhost:8080/",
          "height": 441
        },
        "id": "GkSnUIuwkubT",
        "outputId": "b7c30295-0298-453c-d053-625979578ad6"
      },
      "outputs": [
        {
          "name": "stdout",
          "output_type": "stream",
          "text": [
            "stackedensemble prediction progress: |███████████████████████████████████████████| (done) 100%\n",
            "<class 'h2o.frame.H2OFrame'>\n",
            "(288, 1)\n"
          ]
        },
        {
          "data": {
            "text/html": [
              "<table class='dataframe'>\n",
              "<thead>\n",
              "<tr><th style=\"text-align: right;\">  predict</th></tr>\n",
              "</thead>\n",
              "<tbody>\n",
              "<tr><td style=\"text-align: right;\"> 10262.7 </td></tr>\n",
              "<tr><td style=\"text-align: right;\">  7485.42</td></tr>\n",
              "<tr><td style=\"text-align: right;\"> 11988.8 </td></tr>\n",
              "<tr><td style=\"text-align: right;\"> 15156   </td></tr>\n",
              "<tr><td style=\"text-align: right;\"> 15616.1 </td></tr>\n",
              "<tr><td style=\"text-align: right;\">  8246.11</td></tr>\n",
              "<tr><td style=\"text-align: right;\">  8297.74</td></tr>\n",
              "<tr><td style=\"text-align: right;\">  9916.23</td></tr>\n",
              "<tr><td style=\"text-align: right;\">  8372.36</td></tr>\n",
              "<tr><td style=\"text-align: right;\">  8283.68</td></tr>\n",
              "</tbody>\n",
              "</table><pre style='font-size: smaller; margin-bottom: 1em;'>[10 rows x 1 column]</pre>"
            ],
            "text/plain": [
              "  predict\n",
              "---------\n",
              " 10262.7\n",
              "  7485.42\n",
              " 11988.8\n",
              " 15156\n",
              " 15616.1\n",
              "  8246.11\n",
              "  8297.74\n",
              "  9916.23\n",
              "  8372.36\n",
              "  8283.68\n",
              "[10 rows x 1 column]\n"
            ]
          },
          "execution_count": 29,
          "metadata": {},
          "output_type": "execute_result"
        }
      ],
      "source": [
        "# test data\n",
        "\n",
        "pred_price = aml.predict(H2O_test)\n",
        "# h2o.frame.H2OFrame of shape (288, 1)\n",
        "print(type(pred_price))\n",
        "print(pred_price.shape)\n",
        "pred_price.head()"
      ]
    },
    {
      "cell_type": "code",
      "execution_count": 31,
      "metadata": {
        "colab": {
          "base_uri": "https://localhost:8080/"
        },
        "id": "gqCJ9WzhmShl",
        "outputId": "fd96af17-1840-41f7-a2e4-64d6496b9182"
      },
      "outputs": [
        {
          "name": "stdout",
          "output_type": "stream",
          "text": [
            "RMSE of the AML regression: 1121.7202786736095\n"
          ]
        }
      ],
      "source": [
        "from sklearn.metrics import mean_squared_error\n",
        "# metrics of quality of the fit\n",
        "\n",
        "df_pred_price = pred_price.as_data_frame()\n",
        "rmse_test = mean_squared_error(data_test[target], df_pred_price, squared= False)\n",
        "print(\"RMSE of the AML regression:\", rmse_test)  #  1592 $ (lin reg) -> 1122 $\n"
      ]
    },
    {
      "cell_type": "markdown",
      "metadata": {
        "id": "ir38FLB2o0mK"
      },
      "source": [
        "H2O provides indeed an improvement over the linear regression!"
      ]
    }
  ],
  "metadata": {
    "colab": {
      "provenance": []
    },
    "kernelspec": {
      "display_name": "Python 3",
      "name": "python3"
    },
    "language_info": {
      "name": "python"
    }
  },
  "nbformat": 4,
  "nbformat_minor": 0
}
